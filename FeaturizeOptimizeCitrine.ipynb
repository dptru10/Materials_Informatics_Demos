{
  "nbformat": 4,
  "nbformat_minor": 0,
  "metadata": {
    "colab": {
      "provenance": [],
      "collapsed_sections": [],
      "authorship_tag": "ABX9TyP8CMTmGCgZWJUiDjUGQCHd",
      "include_colab_link": true
    },
    "kernelspec": {
      "name": "python3",
      "display_name": "Python 3"
    },
    "language_info": {
      "name": "python"
    }
  },
  "cells": [
    {
      "cell_type": "markdown",
      "metadata": {
        "id": "view-in-github",
        "colab_type": "text"
      },
      "source": [
        "<a href=\"https://colab.research.google.com/github/dptru10/Materials_Informatics_Demos/blob/main/FeaturizeOptimizeCitrine.ipynb\" target=\"_parent\"><img src=\"https://colab.research.google.com/assets/colab-badge.svg\" alt=\"Open In Colab\"/></a>"
      ]
    },
    {
      "cell_type": "markdown",
      "source": [
        "Created as a tutorial for the Argonne Applied AI Speaker Series, by Dennis Trujillo"
      ],
      "metadata": {
        "id": "B8wrVnDFgJdO"
      }
    },
    {
      "cell_type": "markdown",
      "source": [
        "Install packages..."
      ],
      "metadata": {
        "id": "_gvp2L4EVsGH"
      }
    },
    {
      "cell_type": "code",
      "source": [
        "!pip install -q forestci"
      ],
      "metadata": {
        "id": "u7AD5rg6z6ph"
      },
      "execution_count": null,
      "outputs": []
    },
    {
      "cell_type": "code",
      "source": [
        "!pip install -q automatminer"
      ],
      "metadata": {
        "colab": {
          "base_uri": "https://localhost:8080/"
        },
        "id": "yYn8r_u1cG7C",
        "outputId": "ce03d7f8-e1a1-44ea-dfc7-7650609b2762"
      },
      "execution_count": null,
      "outputs": [
        {
          "output_type": "stream",
          "name": "stdout",
          "text": [
            "\u001b[K     |████████████████████████████████| 463 kB 4.4 MB/s \n",
            "\u001b[K     |████████████████████████████████| 265 kB 24.7 MB/s \n",
            "\u001b[K     |████████████████████████████████| 6.8 MB 37.9 MB/s \n",
            "\u001b[K     |████████████████████████████████| 7.1 MB 16.3 MB/s \n",
            "\u001b[K     |████████████████████████████████| 2.6 MB 23.6 MB/s \n",
            "\u001b[K     |████████████████████████████████| 896 kB 41.8 MB/s \n",
            "\u001b[K     |████████████████████████████████| 209 kB 43.2 MB/s \n",
            "\u001b[K     |████████████████████████████████| 65 kB 3.1 MB/s \n",
            "\u001b[K     |████████████████████████████████| 109 kB 44.5 MB/s \n",
            "\u001b[K     |████████████████████████████████| 47 kB 3.4 MB/s \n",
            "\u001b[K     |████████████████████████████████| 325 kB 33.9 MB/s \n",
            "\u001b[K     |████████████████████████████████| 160 kB 46.7 MB/s \n",
            "\u001b[K     |████████████████████████████████| 546 kB 34.6 MB/s \n",
            "\u001b[?25h  Building wheel for matminer (setup.py) ... \u001b[?25l\u001b[?25hdone\n",
            "  Building wheel for pymatgen (setup.py) ... \u001b[?25l\u001b[?25hdone\n",
            "  Building wheel for pyyaml (setup.py) ... \u001b[?25l\u001b[?25hdone\n",
            "  Building wheel for skrebate (setup.py) ... \u001b[?25l\u001b[?25hdone\n",
            "  Building wheel for tpot (setup.py) ... \u001b[?25l\u001b[?25hdone\n",
            "  Building wheel for pydispatcher (setup.py) ... \u001b[?25l\u001b[?25hdone\n",
            "  Building wheel for stopit (setup.py) ... \u001b[?25l\u001b[?25hdone\n",
            "\u001b[31mERROR: pip's dependency resolver does not currently take into account all the packages that are installed. This behaviour is the source of the following dependency conflicts.\n",
            "yellowbrick 1.4 requires scikit-learn>=1.0.0, but you have scikit-learn 0.22.2 which is incompatible.\n",
            "imbalanced-learn 0.8.1 requires scikit-learn>=0.24, but you have scikit-learn 0.22.2 which is incompatible.\n",
            "forestci 0.5.1 requires scikit-learn>=0.23.1, but you have scikit-learn 0.22.2 which is incompatible.\u001b[0m\n"
          ]
        }
      ]
    },
    {
      "cell_type": "code",
      "source": [
        "!pip install -q matminer"
      ],
      "metadata": {
        "id": "ol5p-UooQyxJ"
      },
      "execution_count": null,
      "outputs": []
    },
    {
      "cell_type": "markdown",
      "source": [
        "Load matbench dataset for modelling"
      ],
      "metadata": {
        "id": "E6ZoqEhtVx29"
      }
    },
    {
      "cell_type": "code",
      "execution_count": null,
      "metadata": {
        "colab": {
          "base_uri": "https://localhost:8080/"
        },
        "id": "qpBjGXJBLmWk",
        "outputId": "7d4760f0-835c-4ebe-f248-8973dcfbaaec"
      },
      "outputs": [
        {
          "output_type": "stream",
          "name": "stderr",
          "text": [
            "/usr/local/lib/python3.7/dist-packages/distributed/config.py:20: YAMLLoadWarning: calling yaml.load() without Loader=... is deprecated, as the default Loader is unsafe. Please read https://msg.pyyaml.org/load for full details.\n",
            "  defaults = yaml.load(f)\n"
          ]
        }
      ],
      "source": [
        "import pandas as pd\n",
        "import numpy as np\n",
        "from matminer.datasets import load_dataset"
      ]
    },
    {
      "cell_type": "code",
      "source": [
        "df = load_dataset(\"matbench_steels\")"
      ],
      "metadata": {
        "id": "WsUgszMqQvsH",
        "colab": {
          "base_uri": "https://localhost:8080/"
        },
        "outputId": "b6e8b64c-2655-4975-a3b7-6f53156f9b81"
      },
      "execution_count": null,
      "outputs": [
        {
          "output_type": "stream",
          "name": "stdout",
          "text": [
            "Fetching matbench_steels.json.gz from https://ndownloader.figshare.com/files/17476040 to /usr/local/lib/python3.7/dist-packages/matminer/datasets/matbench_steels.json.gz\n"
          ]
        }
      ]
    },
    {
      "cell_type": "code",
      "source": [
        "df.columns"
      ],
      "metadata": {
        "colab": {
          "base_uri": "https://localhost:8080/"
        },
        "id": "DcZZPl7wRTvi",
        "outputId": "9113a335-3c98-4daf-c2de-4f58406792f3"
      },
      "execution_count": null,
      "outputs": [
        {
          "output_type": "execute_result",
          "data": {
            "text/plain": [
              "Index(['composition', 'yield strength'], dtype='object')"
            ]
          },
          "metadata": {},
          "execution_count": 6
        }
      ]
    },
    {
      "cell_type": "code",
      "source": [
        "endpoint='yield strength'\n",
        "units = 'MPa'"
      ],
      "metadata": {
        "id": "sNmoJSBmzrUn"
      },
      "execution_count": null,
      "outputs": []
    },
    {
      "cell_type": "markdown",
      "source": [
        "Featurization, data cleaning and removal of highly correlated descriptors via Automatminer"
      ],
      "metadata": {
        "id": "dvvv1qPOWBGv"
      }
    },
    {
      "cell_type": "code",
      "source": [
        "from automatminer import AutoFeaturizer,DataCleaner,FeatureReducer, TPOTAdaptor\n",
        "\n",
        "autofeaturizer = AutoFeaturizer(preset=\"debug\",n_jobs=4)\n",
        "featurized = autofeaturizer.fit_transform(df,target=endpoint)\n",
        "\n",
        "cleaner = DataCleaner(max_na_frac=0.05)\n",
        "cleaned = cleaner.fit_transform(featurized,target=endpoint)\n",
        "\n",
        "reducer = FeatureReducer(reducers=('corr',))\n",
        "reduced = reducer.fit_transform(cleaned,target=endpoint)"
      ],
      "metadata": {
        "colab": {
          "base_uri": "https://localhost:8080/"
        },
        "id": "fytn0KBFVg2X",
        "outputId": "f754dcc0-fe6e-4eb3-bf72-1c2ddcced25c"
      },
      "execution_count": null,
      "outputs": [
        {
          "output_type": "stream",
          "name": "stderr",
          "text": [
            "/usr/local/lib/python3.7/dist-packages/sklearn/utils/deprecation.py:144: FutureWarning: The sklearn.metrics.scorer module is  deprecated in version 0.22 and will be removed in version 0.24. The corresponding classes / functions should instead be imported from sklearn.metrics. Anything that cannot be imported from sklearn.metrics is now part of the private API.\n",
            "  warnings.warn(message, FutureWarning)\n",
            "/usr/local/lib/python3.7/dist-packages/sklearn/utils/deprecation.py:144: FutureWarning: The sklearn.feature_selection.base module is  deprecated in version 0.22 and will be removed in version 0.24. The corresponding classes / functions should instead be imported from sklearn.feature_selection. Anything that cannot be imported from sklearn.feature_selection is now part of the private API.\n",
            "  warnings.warn(message, FutureWarning)\n",
            "/usr/local/lib/python3.7/dist-packages/sklearn/utils/deprecation.py:144: FutureWarning: The sklearn.neighbors.unsupervised module is  deprecated in version 0.22 and will be removed in version 0.24. The corresponding classes / functions should instead be imported from sklearn.neighbors. Anything that cannot be imported from sklearn.neighbors is now part of the private API.\n",
            "  warnings.warn(message, FutureWarning)\n",
            "/usr/local/lib/python3.7/dist-packages/sklearn/externals/joblib/__init__.py:15: FutureWarning: sklearn.externals.joblib is deprecated in 0.21 and will be removed in 0.23. Please import this functionality directly from joblib, which can be installed with: pip install joblib. If this warning is raised when loading pickled models, you may need to re-serialize those models with scikit-learn 0.21+.\n",
            "  warnings.warn(msg, category=FutureWarning)\n"
          ]
        },
        {
          "output_type": "stream",
          "name": "stdout",
          "text": [
            "2022-06-03 18:38:38 INFO     AutoFeaturizer: Starting fitting.\n",
            "2022-06-03 18:38:38 INFO     AutoFeaturizer: Compositions detected as strings. Attempting conversion to Composition objects...\n"
          ]
        },
        {
          "output_type": "stream",
          "name": "stderr",
          "text": [
            "StrToComposition: 100%|██████████| 312/312 [00:00<00:00, 1267.59it/s]\n"
          ]
        },
        {
          "output_type": "stream",
          "name": "stdout",
          "text": [
            "2022-06-03 18:38:39 INFO     AutoFeaturizer: Guessing oxidation states of compositions, as they were not present in input.\n"
          ]
        },
        {
          "output_type": "stream",
          "name": "stderr",
          "text": [
            "CompositionToOxidComposition: 100%|██████████| 312/312 [00:03<00:00, 87.59it/s]\n"
          ]
        },
        {
          "output_type": "stream",
          "name": "stdout",
          "text": [
            "2022-06-03 18:38:43 INFO     AutoFeaturizer: Featurizer type structure not in the dataframe to be fitted. Skipping...\n",
            "2022-06-03 18:38:43 INFO     AutoFeaturizer: Featurizer type bandstructure not in the dataframe to be fitted. Skipping...\n",
            "2022-06-03 18:38:43 INFO     AutoFeaturizer: Featurizer type dos not in the dataframe to be fitted. Skipping...\n",
            "2022-06-03 18:38:43 INFO     AutoFeaturizer: Finished fitting.\n",
            "2022-06-03 18:38:43 INFO     AutoFeaturizer: Starting transforming.\n",
            "2022-06-03 18:38:43 INFO     AutoFeaturizer: Featurizing with ElementProperty.\n"
          ]
        },
        {
          "output_type": "stream",
          "name": "stderr",
          "text": [
            "ElementProperty: 100%|██████████| 312/312 [00:01<00:00, 184.02it/s]\n"
          ]
        },
        {
          "output_type": "stream",
          "name": "stdout",
          "text": [
            "2022-06-03 18:38:45 INFO     AutoFeaturizer: Featurizer type structure not in the dataframe. Skipping...\n",
            "2022-06-03 18:38:45 INFO     AutoFeaturizer: Featurizer type bandstructure not in the dataframe. Skipping...\n",
            "2022-06-03 18:38:45 INFO     AutoFeaturizer: Featurizer type dos not in the dataframe. Skipping...\n",
            "2022-06-03 18:38:45 INFO     AutoFeaturizer: Finished transforming.\n",
            "2022-06-03 18:38:45 INFO     DataCleaner: Starting fitting.\n",
            "2022-06-03 18:38:45 INFO     DataCleaner: Cleaning with respect to samples with sample na_method 'drop'\n",
            "2022-06-03 18:38:45 INFO     DataCleaner: Replacing infinite values with nan for easier screening.\n",
            "2022-06-03 18:38:45 INFO     DataCleaner: Before handling na: 312 samples, 133 features\n",
            "2022-06-03 18:38:45 INFO     DataCleaner: 0 samples did not have target values. They were dropped.\n",
            "2022-06-03 18:38:45 INFO     DataCleaner: Handling feature na by max na threshold of 0.05 with method 'drop'.\n",
            "2022-06-03 18:38:45 INFO     DataCleaner: After handling na: 312 samples, 133 features\n",
            "2022-06-03 18:38:45 INFO     DataCleaner: Finished fitting.\n",
            "2022-06-03 18:38:45 INFO     FeatureReducer: Starting fitting.\n",
            "2022-06-03 18:38:46 INFO     FeatureReducer: 47 features removed due to cross correlation more than 0.95\n",
            "2022-06-03 18:38:46 INFO     FeatureReducer: Finished fitting.\n",
            "2022-06-03 18:38:46 INFO     FeatureReducer: Starting transforming.\n",
            "2022-06-03 18:38:46 INFO     FeatureReducer: Finished transforming.\n"
          ]
        }
      ]
    },
    {
      "cell_type": "markdown",
      "source": [
        "Labeling of potential outliers w/isolation forest"
      ],
      "metadata": {
        "id": "-5ukISsuW21W"
      }
    },
    {
      "cell_type": "code",
      "source": [
        "from sklearn.ensemble import IsolationForest\n",
        "\n",
        "isolated_forest=IsolationForest(n_estimators=400, n_jobs=-1, random_state=2, bootstrap=True)\n",
        "isolated_forest.fit(reduced)\n",
        "predicted = isolated_forest.predict(reduced)"
      ],
      "metadata": {
        "id": "Ko2sA4oo5MP_"
      },
      "execution_count": null,
      "outputs": []
    },
    {
      "cell_type": "code",
      "source": [
        "outlier_indices = []\n",
        "inlier_indices  = []\n",
        "i = 0\n",
        "for prediction in predicted:\n",
        "  if prediction == -1:\n",
        "    outlier_indices.append(i)\n",
        "  else: \n",
        "    inlier_indices.append(i)\n",
        "  i = i + 1\n",
        "print(\"outliers (%.2f), inliers (%.2f)\" %(len(outlier_indices)/len(predicted),len(inlier_indices)/len(predicted)))"
      ],
      "metadata": {
        "colab": {
          "base_uri": "https://localhost:8080/"
        },
        "id": "wTuxOVjq5qIQ",
        "outputId": "38672b8f-e23b-45c4-c5d2-f20916ffa464"
      },
      "execution_count": null,
      "outputs": [
        {
          "output_type": "stream",
          "name": "stdout",
          "text": [
            "outliers (0.22), inliers (0.78)\n"
          ]
        }
      ]
    },
    {
      "cell_type": "markdown",
      "source": [
        "Print a few examples of outliers discovered, (no particular order) "
      ],
      "metadata": {
        "id": "J2OyVLAGgDSf"
      }
    },
    {
      "cell_type": "code",
      "source": [
        "print(df['composition'].iloc[outlier_indices].head(n=5))"
      ],
      "metadata": {
        "colab": {
          "base_uri": "https://localhost:8080/"
        },
        "id": "24HBdYf_foTS",
        "outputId": "2ee1a3c4-9389-420b-b28c-425f77cb767d"
      },
      "execution_count": null,
      "outputs": [
        {
          "output_type": "stream",
          "name": "stdout",
          "text": [
            "0    Fe0.620C0.000953Mn0.000521Si0.00102Cr0.000110N...\n",
            "1    Fe0.623C0.00854Mn0.000104Si0.000203Cr0.147Ni0....\n",
            "2    Fe0.625Mn0.000102Si0.000200Cr0.0936Ni0.129Mo0....\n",
            "4    Fe0.636C0.000474Mn0.000518Si0.00101Cr0.000109N...\n",
            "6    Fe0.644Mn0.000521Si0.00102Cr0.000110Ni0.177Mo0...\n",
            "Name: composition, dtype: object\n"
          ]
        }
      ]
    },
    {
      "cell_type": "markdown",
      "source": [
        "Visualization of outliers in a reduced feature space (pca vs. t-sne)"
      ],
      "metadata": {
        "id": "Xv3ZjuY8W_Xd"
      }
    },
    {
      "cell_type": "code",
      "source": [
        "from sklearn.decomposition import PCA\n",
        "\n",
        "pca = PCA(n_components=2)\n",
        "p_features = pca.fit_transform(reduced)"
      ],
      "metadata": {
        "id": "D_P2TMz33wtR"
      },
      "execution_count": null,
      "outputs": []
    },
    {
      "cell_type": "markdown",
      "source": [
        "We observe some clustering of data points w/inliers relatively closely bunched vs. outliers distributed diffusely and separate from the weakly clustered inliers."
      ],
      "metadata": {
        "id": "WvxmHjYcrBaO"
      }
    },
    {
      "cell_type": "code",
      "source": [
        "import matplotlib.pyplot as plt\n",
        "from matplotlib import colors\n",
        "\n",
        "plt.figure() \n",
        "plt.scatter(p_features[inlier_indices, 0], p_features[inlier_indices, 1], s=4, lw=1, label=\"inliers\", c=\"green\", alpha=0.5)\n",
        "plt.scatter(p_features[outlier_indices, 0], p_features[outlier_indices, 1], s=4, lw=1, label=\"outliers\", c=\"red\", alpha=0.5)\n",
        "plt.xlabel('PC 0')\n",
        "plt.ylabel('PC 1')\n",
        "plt.legend()\n",
        "plt.title('pca, inliers vs. outliers')\n",
        "plt.show()"
      ],
      "metadata": {
        "colab": {
          "base_uri": "https://localhost:8080/",
          "height": 295
        },
        "id": "bKEwC-b44yT_",
        "outputId": "65a069e9-9717-4ac2-bc44-940cbfae560c"
      },
      "execution_count": null,
      "outputs": [
        {
          "output_type": "display_data",
          "data": {
            "text/plain": [
              "<Figure size 432x288 with 1 Axes>"
            ],
            "image/png": "[encoded data removed]"
          },
          "metadata": {
            "needs_background": "light"
          }
        }
      ]
    },
    {
      "cell_type": "code",
      "source": [
        "from sklearn.manifold import TSNE\n",
        "t_features = TSNE(n_components=2,init='pca').fit_transform(reduced)"
      ],
      "metadata": {
        "id": "Y1_SYwS4L7vI"
      },
      "execution_count": null,
      "outputs": []
    },
    {
      "cell_type": "markdown",
      "source": [
        "Similar behavior is observed in the t-sne graph, although the separating between inliers and outliers is less visible compared to the PCA plot above."
      ],
      "metadata": {
        "id": "s1IkLDGorZU-"
      }
    },
    {
      "cell_type": "code",
      "source": [
        "plt.figure() \n",
        "plt.scatter(t_features[inlier_indices, 0], t_features[inlier_indices, 1], s=4, lw=1, label=\"inliers\", c=\"green\", alpha=0.5)\n",
        "plt.scatter(t_features[outlier_indices, 0], t_features[outlier_indices, 1], s=4, lw=1, label=\"outliers\", c=\"red\", alpha=0.5)\n",
        "plt.xlabel('Component 0')\n",
        "plt.ylabel('Component 1')\n",
        "plt.legend()\n",
        "plt.title('t-sne, inliers vs. outliers')\n",
        "plt.show()"
      ],
      "metadata": {
        "colab": {
          "base_uri": "https://localhost:8080/",
          "height": 295
        },
        "id": "QjLFIXlEMpM6",
        "outputId": "e31a9116-6c24-486c-f316-5b9c1e2288f6"
      },
      "execution_count": null,
      "outputs": [
        {
          "output_type": "display_data",
          "data": {
            "text/plain": [
              "<Figure size 432x288 with 1 Axes>"
            ],
            "image/png": "[encoded data removed]"
          },
          "metadata": {
            "needs_background": "light"
          }
        }
      ]
    },
    {
      "cell_type": "code",
      "source": [
        "X = reduced.loc[:,reduced.columns != endpoint] \n",
        "Y = reduced[endpoint]"
      ],
      "metadata": {
        "id": "p-PQoaQvimbv"
      },
      "execution_count": null,
      "outputs": []
    },
    {
      "cell_type": "markdown",
      "source": [
        "Split Featurized Data into train-test sets w/80-20 split"
      ],
      "metadata": {
        "id": "Q4ocsoGefLUH"
      }
    },
    {
      "cell_type": "code",
      "source": [
        "from sklearn.model_selection import train_test_split\n",
        "\n",
        "X_train, X_test, y_train, y_test = train_test_split(X, Y, test_size=0.2,random_state=2)\n"
      ],
      "metadata": {
        "id": "6BFLOLgZi-kr"
      },
      "execution_count": null,
      "outputs": []
    },
    {
      "cell_type": "code",
      "source": [
        "from pandas.core.common import random_state\n",
        "# Number of trees in random forest\n",
        "n_estimators = [int(x) for x in np.linspace(start = 100, stop = 500, num = 5)]\n",
        "# Number of features to consider at every split\n",
        "max_features = ['auto', 'sqrt']\n",
        "# Maximum number of levels in tree\n",
        "max_depth = [int(x) for x in np.linspace(10, 110, num = 11)]\n",
        "max_depth.append(None)\n",
        "# Minimum number of samples required to split a node\n",
        "min_samples_split = [2, 5, 10, 15]\n",
        "# Minimum number of samples required at each leaf node\n",
        "min_samples_leaf = [1, 2, 4, 8]\n",
        "# Method of selecting samples for training each tree\n",
        "bootstrap = [True]#,False]\n",
        "# Create the random grid\n",
        "tuned_parameters = {'n_estimators': n_estimators,'max_features': max_features,'max_depth': max_depth,\n",
        "                'min_samples_split': min_samples_split,'min_samples_leaf': min_samples_leaf,'bootstrap': bootstrap}"
      ],
      "metadata": {
        "id": "YP48k2YrjMKY"
      },
      "execution_count": null,
      "outputs": []
    },
    {
      "cell_type": "markdown",
      "source": [
        "If desired we can define our own scorer to optimize the hyperparameter space"
      ],
      "metadata": {
        "id": "ptmzju_HgUXt"
      }
    },
    {
      "cell_type": "code",
      "source": [
        "def mse(y_true,y_pred): \n",
        "    y_true = np.array(y_true)\n",
        "    y_pred = np.array(y_pred)\n",
        "    return np.power(y_true - y_pred,2).mean()"
      ],
      "metadata": {
        "id": "1XfnCJT5jYp2"
      },
      "execution_count": null,
      "outputs": []
    },
    {
      "cell_type": "code",
      "source": [
        "from sklearn.metrics import make_scorer  \n",
        "mse_scorer          = make_scorer(mse, greater_is_better=False)"
      ],
      "metadata": {
        "id": "mnT6XdxajgTs"
      },
      "execution_count": null,
      "outputs": []
    },
    {
      "cell_type": "markdown",
      "source": [
        "We optimize the hyperparameter space w/the Minimized MSE of the yield strength considered as the objective function"
      ],
      "metadata": {
        "id": "3tSvEAS2mCQV"
      }
    },
    {
      "cell_type": "code",
      "source": [
        "from sklearn.model_selection import GridSearchCV, RandomizedSearchCV\n",
        "from sklearn.ensemble import RandomForestRegressor, ExtraTreesRegressor\n",
        "\n",
        "\n",
        "score = 'neg_mean_squared_error' #mse_scorer\n",
        "\n",
        "forest = RandomizedSearchCV(RandomForestRegressor(random_state=1),tuned_parameters,verbose=10,cv=5,n_jobs=-1,scoring=score)\n",
        "    \n",
        "forest.fit(X_train, y_train)\n",
        "\n",
        "print(\"Best parameters set found on development set:\")    \n",
        "print()\n",
        "print(str(forest.best_params_))\n",
        "print()\n",
        "print('Score:')\n",
        "print(str(forest.best_score_))\n",
        "print()\n",
        "print('done!...')"
      ],
      "metadata": {
        "colab": {
          "base_uri": "https://localhost:8080/"
        },
        "id": "RDzkq7UVjTnz",
        "outputId": "265f8b6f-a194-4d1b-ff48-b2213de5fef0"
      },
      "execution_count": null,
      "outputs": [
        {
          "output_type": "stream",
          "name": "stdout",
          "text": [
            "Fitting 5 folds for each of 10 candidates, totalling 50 fits\n"
          ]
        },
        {
          "output_type": "stream",
          "name": "stderr",
          "text": [
            "[Parallel(n_jobs=-1)]: Using backend LokyBackend with 2 concurrent workers.\n",
            "[Parallel(n_jobs=-1)]: Done   1 tasks      | elapsed:    3.7s\n",
            "[Parallel(n_jobs=-1)]: Done   4 tasks      | elapsed:    5.0s\n",
            "[Parallel(n_jobs=-1)]: Done   9 tasks      | elapsed:   12.0s\n",
            "[Parallel(n_jobs=-1)]: Done  14 tasks      | elapsed:   17.6s\n",
            "[Parallel(n_jobs=-1)]: Done  21 tasks      | elapsed:   22.3s\n",
            "[Parallel(n_jobs=-1)]: Done  28 tasks      | elapsed:   27.2s\n",
            "[Parallel(n_jobs=-1)]: Done  37 tasks      | elapsed:   30.0s\n",
            "[Parallel(n_jobs=-1)]: Done  46 tasks      | elapsed:   33.3s\n",
            "[Parallel(n_jobs=-1)]: Done  50 out of  50 | elapsed:   35.0s finished\n"
          ]
        },
        {
          "output_type": "stream",
          "name": "stdout",
          "text": [
            "Best parameters set found on development set:\n",
            "\n",
            "{'n_estimators': 100, 'min_samples_split': 5, 'min_samples_leaf': 2, 'max_features': 'auto', 'max_depth': 70, 'bootstrap': True}\n",
            "\n",
            "Score:\n",
            "-28193.156472299084\n",
            "\n",
            "done!...\n"
          ]
        }
      ]
    },
    {
      "cell_type": "markdown",
      "source": [
        "Using the best hyperparameter set found we fit a RandomForestRegressor and list the top 10 most important features as determined by the RFR feature importance"
      ],
      "metadata": {
        "id": "avnseRD2niiZ"
      }
    },
    {
      "cell_type": "code",
      "source": [
        "#use best hyperparams and determine feature importance\n",
        "params = dict(forest.best_params_)\n",
        "forest_imp = RandomForestRegressor(**params)\n",
        "forest_imp.fit(X,Y)\n",
        "\n",
        "importances = forest_imp.feature_importances_\n",
        "indices = np.argsort(importances)[::-1]"
      ],
      "metadata": {
        "id": "h4SxNL6Hjmfn"
      },
      "execution_count": null,
      "outputs": []
    },
    {
      "cell_type": "code",
      "source": [
        "model_train = forest_imp.predict(X_train)\n",
        "model_test  = forest_imp.predict(X_test)"
      ],
      "metadata": {
        "id": "M_gNMjShyybk"
      },
      "execution_count": null,
      "outputs": []
    },
    {
      "cell_type": "code",
      "source": [
        "from sklearn.metrics import mean_squared_error, mean_absolute_error, r2_score\n",
        "\n",
        "r2_score_train=r2_score(y_train,model_train)\n",
        "mse_score_train=mean_squared_error(y_train,model_train)\n",
        "mae_score_train=mean_absolute_error(y_train,model_train)\n",
        "rmse_score_train=np.sqrt(mse_score_train)\n",
        "\n",
        "r2_score_test=r2_score(y_test,model_test)\n",
        "mse_score_test=mean_squared_error(y_test,model_test)\n",
        "mae_score_test=mean_absolute_error(y_test,model_test)\n",
        "rmse_score_test=np.sqrt(mse_score_test)"
      ],
      "metadata": {
        "id": "ISJtayXfugfE"
      },
      "execution_count": null,
      "outputs": []
    },
    {
      "cell_type": "code",
      "source": [
        "print(\"Test set scores:\")\n",
        "print(\"R2: %.2f\" %r2_score_test)\n",
        "print(\"MSE: %.2f\" %mse_score_test)\n",
        "print(\"MAE: %.2f\" %mae_score_test)\n",
        "print(\"RMSE: %.2f\" %rmse_score_test)"
      ],
      "metadata": {
        "colab": {
          "base_uri": "https://localhost:8080/"
        },
        "id": "tVpMX4Wjul5j",
        "outputId": "5381bfa0-5a8a-4bdf-b725-327886af0c66"
      },
      "execution_count": null,
      "outputs": [
        {
          "output_type": "stream",
          "name": "stdout",
          "text": [
            "Test set scores:\n",
            "R2: 0.97\n",
            "MSE: 3127.08\n",
            "MAE: 37.21\n",
            "RMSE: 55.92\n"
          ]
        }
      ]
    },
    {
      "cell_type": "code",
      "source": [
        "print(\"Training set scores:\")\n",
        "print(\"R2: %.2f\" %r2_score_train)\n",
        "print(\"MSE: %.2f\" %mse_score_train)\n",
        "print(\"MAE: %.2f\" %mae_score_train)\n",
        "print(\"RMSE: %.2f\" %rmse_score_train)"
      ],
      "metadata": {
        "colab": {
          "base_uri": "https://localhost:8080/"
        },
        "id": "o-8Sccz4vAXM",
        "outputId": "7458e36f-b57d-4a37-dce5-e6e5a132b4b6"
      },
      "execution_count": null,
      "outputs": [
        {
          "output_type": "stream",
          "name": "stdout",
          "text": [
            "Training set scores:\n",
            "R2: 0.93\n",
            "MSE: 6151.70\n",
            "MAE: 48.18\n",
            "RMSE: 78.43\n"
          ]
        }
      ]
    },
    {
      "cell_type": "code",
      "source": [
        "print(\"Feature ranking:\")\n",
        "features = X.columns \n",
        "ranked_features=[]\n",
        "n_features = 10\n",
        "for f in range(n_features):#X.shape[1]):\n",
        "  ranked_features.append(features[indices[f]])\n",
        "  print(\"%d. %s (%f)\" % (f + 1, features[indices[f]], importances[indices[f]]))"
      ],
      "metadata": {
        "colab": {
          "base_uri": "https://localhost:8080/"
        },
        "id": "GpMo2QPoxs4i",
        "outputId": "5f87e683-0396-4787-ec87-2ee944f7ed53"
      },
      "execution_count": null,
      "outputs": [
        {
          "output_type": "stream",
          "name": "stdout",
          "text": [
            "Feature ranking:\n",
            "1. MagpieData avg_dev NUnfilled (0.379539)\n",
            "2. MagpieData mean Electronegativity (0.059223)\n",
            "3. MagpieData avg_dev GSbandgap (0.057412)\n",
            "4. MagpieData avg_dev GSmagmom (0.050731)\n",
            "5. MagpieData mean GSmagmom (0.048660)\n",
            "6. MagpieData mean SpaceGroupNumber (0.045409)\n",
            "7. MagpieData avg_dev NdUnfilled (0.042899)\n",
            "8. MagpieData mean Column (0.031077)\n",
            "9. MagpieData avg_dev NsUnfilled (0.026731)\n",
            "10. MagpieData mean MeltingT (0.026113)\n"
          ]
        }
      ]
    },
    {
      "cell_type": "markdown",
      "source": [
        "We plot the predicted vs. true values in a 2D histogram qualitatively show the deviation from the true value and the density of data points in a region"
      ],
      "metadata": {
        "id": "vSJGGvD5n6jM"
      }
    },
    {
      "cell_type": "markdown",
      "source": [
        "This first figure represents the training set "
      ],
      "metadata": {
        "id": "lL7coru-oQor"
      }
    },
    {
      "cell_type": "code",
      "source": [
        "#plot figures\n",
        "plt.figure()\n",
        "plt.hist2d(x=y_train,y=model_train,bins=100,norm=colors.Normalize())   \n",
        "plt.axis([np.min(Y),np.max(Y),np.min(Y),np.max(Y)])\n",
        "plt.colorbar() \n",
        "plt.xlabel('Reported %s [%s]' %(endpoint,units))\n",
        "plt.ylabel('Predicted %s [%s]' %(endpoint,units))\n",
        "plt.show()"
      ],
      "metadata": {
        "colab": {
          "base_uri": "https://localhost:8080/",
          "height": 283
        },
        "id": "CB84pNh2x9V4",
        "outputId": "aad1b49d-6cac-45e5-a46c-74d7ffeba084"
      },
      "execution_count": null,
      "outputs": [
        {
          "output_type": "display_data",
          "data": {
            "text/plain": [
              "<Figure size 432x288 with 2 Axes>"
            ],
            "image/png": "[encoded data removed]"
          },
          "metadata": {
            "needs_background": "light"
          }
        }
      ]
    },
    {
      "cell_type": "markdown",
      "source": [
        "And this one represents the test set"
      ],
      "metadata": {
        "id": "ObqFNifWoYm8"
      }
    },
    {
      "cell_type": "code",
      "source": [
        "plt.figure()\n",
        "plt.hist2d(x=y_test,y=model_test,bins=100,norm=colors.Normalize())\n",
        "plt.axis([np.min(Y),np.max(Y),np.min(Y),np.max(Y)])\n",
        "plt.colorbar() \n",
        "plt.xlabel('Reported %s [%s]' %(endpoint,units))\n",
        "plt.ylabel('Predicted %s [%s]' %(endpoint,units))\n",
        "plt.tight_layout()\n",
        "plt.show()"
      ],
      "metadata": {
        "colab": {
          "base_uri": "https://localhost:8080/",
          "height": 297
        },
        "id": "s3c-LM7rydPt",
        "outputId": "3a3e4317-5e33-4307-ebd6-8e6802df0e4a"
      },
      "execution_count": null,
      "outputs": [
        {
          "output_type": "display_data",
          "data": {
            "text/plain": [
              "<Figure size 432x288 with 2 Axes>"
            ],
            "image/png": "[encoded data removed]"
          },
          "metadata": {
            "needs_background": "light"
          }
        }
      ]
    },
    {
      "cell_type": "markdown",
      "source": [
        "Using a random forest it is possible to determine the variance in the model and utilize this to plot the uncertainity"
      ],
      "metadata": {
        "id": "wYVByXlEocS9"
      }
    },
    {
      "cell_type": "markdown",
      "source": [
        "Likewise we can determine the sample which exhibits the Maximum Uncertainty (MU), Maximum Expected Improvement (MEI) and Maximum Likelihood of Improvement utilizing the RFR model applied to the test set and the associated uncertainties.\n",
        "\n",
        "This methodology is inspired by the following paper, https://link.springer.com/article/10.1007/s40192-017-0098-z "
      ],
      "metadata": {
        "id": "YG2BG16vo8F9"
      }
    },
    {
      "cell_type": "code",
      "source": [
        "import forestci as fci\n",
        "\n",
        "v_ij = fci.random_forest_error(forest_imp, np.array(X_train), np.array(X_test), calibrate=False)\n",
        "mu_idx  = np.argmax(np.abs(v_ij))\n",
        "mei_idx = np.argmax(model_test)\n",
        "mli_idx = np.argsort(model_test + np.sqrt(np.abs(v_ij)))[-1]\n"
      ],
      "metadata": {
        "id": "UHLwo-ONYIm7",
        "colab": {
          "base_uri": "https://localhost:8080/"
        },
        "outputId": "9844303f-c6e5-4510-e0ba-febd55950de0"
      },
      "execution_count": null,
      "outputs": [
        {
          "output_type": "stream",
          "name": "stderr",
          "text": [
            "Failed to import duecredit due to No module named 'duecredit'\n"
          ]
        }
      ]
    },
    {
      "cell_type": "markdown",
      "source": [
        "We see that for regions w/many data points the uncertainty is low and higher for regions w/fewer data points (upper right) "
      ],
      "metadata": {
        "id": "JugX8TP8orhs"
      }
    },
    {
      "cell_type": "code",
      "source": [
        "plt.figure() \n",
        "plt.xlabel('Reported %s [%s]' %(endpoint,units))\n",
        "plt.ylabel('Predicted %s [%s]' %(endpoint,units))\n",
        "plt.errorbar(y_test, model_test, yerr=np.sqrt(np.abs(v_ij)), fmt='o', alpha=0.5)\n",
        "plt.show()"
      ],
      "metadata": {
        "colab": {
          "base_uri": "https://localhost:8080/",
          "height": 281
        },
        "id": "7-RbkijunkVQ",
        "outputId": "0d2e1f0a-b995-4f34-d08c-a90e07a1c891"
      },
      "execution_count": null,
      "outputs": [
        {
          "output_type": "display_data",
          "data": {
            "text/plain": [
              "<Figure size 432x288 with 1 Axes>"
            ],
            "image/png": "[encoded data removed]"
          },
          "metadata": {
            "needs_background": "light"
          }
        }
      ]
    },
    {
      "cell_type": "markdown",
      "source": [
        "We see that the sample with the Max. Uncertainty (MU, red star) has the largest error bar as expected, and the sample w/the Max. Expected Improvement (MEI, green star) exhibits the largest predicted fatigue strength. The sample w/the Max. Likelihood of Improvement (MLI, yellow star) exhibits both a high predicted value and relatively high uncertainty."
      ],
      "metadata": {
        "id": "SK9UT8VqoqAV"
      }
    },
    {
      "cell_type": "code",
      "source": [
        "plt.figure() \n",
        "plt.errorbar(range(len(y_test)), y_test, yerr=np.sqrt(np.abs(v_ij)), fmt='o',alpha=0.5)\n",
        "plt.scatter(mu_idx,np.array(y_test)[mu_idx],color='red',marker='*',s=90,alpha=0.9,label='MU')\n",
        "plt.scatter(mei_idx,np.array(y_test)[mei_idx],color='green',marker='*',s=90,alpha=0.9,label='MEI')\n",
        "plt.scatter(mli_idx,np.array(y_test)[mli_idx],color='orange',marker='*',s=90,alpha=0.9,label='MLI')\n",
        "plt.xlabel(\"Test Candidate [index]\")\n",
        "plt.ylabel(\"Predicted Fatigue Strength [MPa]\")\n",
        "plt.legend(loc=\"upper left\")\n",
        "plt.show()"
      ],
      "metadata": {
        "colab": {
          "base_uri": "https://localhost:8080/",
          "height": 279
        },
        "id": "Y6-2sHpF2rJj",
        "outputId": "0e22248a-1460-454f-c048-8d3d702e1a35"
      },
      "execution_count": null,
      "outputs": [
        {
          "output_type": "display_data",
          "data": {
            "text/plain": [
              "<Figure size 432x288 with 1 Axes>"
            ],
            "image/png": "[encoded data removed]"
          },
          "metadata": {
            "needs_background": "light"
          }
        }
      ]
    },
    {
      "cell_type": "markdown",
      "source": [
        "Printing the composition of these three samples we see that they all contain Fe, Cr, Co, Al, and Ti as components, w/Cr being the second most prevalent in composition amongst the shared elements in these compositions after Fe."
      ],
      "metadata": {
        "id": "Qf9-Na1DqR_A"
      }
    },
    {
      "cell_type": "code",
      "source": [
        "print(\"Composition of sample with Maximum Uncertainty:\\n%s\" %str(df['composition'].iloc[y_test.index[mu_idx]]))"
      ],
      "metadata": {
        "colab": {
          "base_uri": "https://localhost:8080/"
        },
        "id": "AgY5rzl8ovcH",
        "outputId": "2fc787f4-456b-4112-9aba-6bac33e3779e"
      },
      "execution_count": null,
      "outputs": [
        {
          "output_type": "stream",
          "name": "stdout",
          "text": [
            "Composition of sample with Maximum Uncertainty:\n",
            "Fe0.667C0.000477Mn0.000522Si0.00102Cr0.000110Ni0.171Mo0.0233V0.000113Nb0.0000617Co0.115Al0.00361Ti0.0184\n"
          ]
        }
      ]
    },
    {
      "cell_type": "code",
      "source": [
        "print(\"Composition of sample with Maximum Expected Improvement:\\n%s\" %str(df['composition'].iloc[y_test.index[mei_idx]]))"
      ],
      "metadata": {
        "colab": {
          "base_uri": "https://localhost:8080/"
        },
        "id": "7T93foa14DAs",
        "outputId": "dfa4f5d1-9185-47e8-9e03-9a16a8c2bc1a"
      },
      "execution_count": null,
      "outputs": [
        {
          "output_type": "stream",
          "name": "stdout",
          "text": [
            "Composition of sample with Maximum Expected Improvement:\n",
            "Fe0.634C0.000478Mn0.000523Si0.00102Cr0.000111Ni0.173Mo0.0237V0.000113Nb0.0000619Co0.146Al0.00277Ti0.0176\n"
          ]
        }
      ]
    },
    {
      "cell_type": "code",
      "source": [
        "print(\"Composition of sample with Maximum Likelihood of Improvement:\\n%s\" %str(df['composition'].iloc[y_test.index[mli_idx]]))"
      ],
      "metadata": {
        "colab": {
          "base_uri": "https://localhost:8080/"
        },
        "id": "xOiGNcCj9DSC",
        "outputId": "e8ebd051-717d-47c5-a0c4-495144dab82d"
      },
      "execution_count": null,
      "outputs": [
        {
          "output_type": "stream",
          "name": "stdout",
          "text": [
            "Composition of sample with Maximum Likelihood of Improvement:\n",
            "Fe0.667C0.000477Mn0.000522Si0.00102Cr0.000110Ni0.171Mo0.0233V0.000113Nb0.0000617Co0.115Al0.00361Ti0.0184\n"
          ]
        }
      ]
    }
  ]
}